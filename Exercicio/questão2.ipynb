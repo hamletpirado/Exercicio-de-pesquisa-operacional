{
 "cells": [
  {
   "cell_type": "code",
   "execution_count": 4,
   "metadata": {},
   "outputs": [
    {
     "name": "stdout",
     "output_type": "stream",
     "text": [
      "Status da solução: Optimal\n",
      "Valor ótimo da função objetivo: 19200.0\n",
      "x1 = 22.0\n",
      "x2 = 10.0\n",
      "x3 = 30.0\n"
     ]
    }
   ],
   "source": [
    "from pulp import LpMaximize, LpProblem, LpVariable, LpStatus\n",
    "\n",
    "# Criação do problema\n",
    "model = LpProblem(name=\"problema-de-otimizacao\", sense=LpMaximize)\n",
    "\n",
    "# Definição das variáveis\n",
    "x1 = LpVariable(name=\"x1\", lowBound=20, upBound=50)  # 20 <= x1 <= 50\n",
    "x2 = LpVariable(name=\"x2\", lowBound=10, upBound=40)  # 10 <= x2 <= 40\n",
    "x3 = LpVariable(name=\"x3\", lowBound=15, upBound=30)  # 15 <= x3 <= 30\n",
    "\n",
    "# Adicionar a função objetivo\n",
    "model += 350 * x1 + 250 * x2 + 300 * x3, \"Função Objetivo\"\n",
    "\n",
    "# Adicionar restrições\n",
    "model += 1.5 * x1 + 1.1 * x2 + 1.2 * x3 <= 80, \"Restrição de Recursos\"\n",
    "\n",
    "# Resolver o problema\n",
    "status = model.solve()\n",
    "\n",
    "# Exibir resultados corrigidos\n",
    "print(f\"Status da solução: {LpStatus[model.status]}\")\n",
    "print(f\"Valor ótimo da função objetivo: {model.objective.value()}\")\n",
    "print(f\"x1 = {x1.value()}\")\n",
    "print(f\"x2 = {x2.value()}\")\n",
    "print(f\"x3 = {x3.value()}\")\n",
    "\n"
   ]
  }
 ],
 "metadata": {
  "kernelspec": {
   "display_name": "Python 3",
   "language": "python",
   "name": "python3"
  },
  "language_info": {
   "codemirror_mode": {
    "name": "ipython",
    "version": 3
   },
   "file_extension": ".py",
   "mimetype": "text/x-python",
   "name": "python",
   "nbconvert_exporter": "python",
   "pygments_lexer": "ipython3",
   "version": "3.12.7"
  }
 },
 "nbformat": 4,
 "nbformat_minor": 2
}
